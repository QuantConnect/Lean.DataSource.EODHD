{
 "cells": [
  {
   "cell_type": "markdown",
   "metadata": {
    "pycharm": {
     "name": "#%% md\n"
    }
   },
   "source": [
    "![QuantConnect Logo](https://cdn.quantconnect.com/web/i/icon.png)\n",
    "<hr>"
   ]
  },
  {
   "cell_type": "code",
   "execution_count": null,
   "metadata": {},
   "outputs": [],
   "source": [
    "qb = QuantBook()\n",
    "\n",
    "splits = qb.add_data(EODHDUpcomingSplits, \"splits\").symbol\n",
    "\n",
    "be_tested = qb.history(splits, datetime(2010, 1, 1), datetime(2025, 2, 20), Resolution.DAILY)\n",
    "cleaned_be_tested = be_tested.reset_index()[[\"symbol\", \"splitdate\", \"splitfactor\"]].groupby([\"symbol\", \"splitdate\"]).last()\n",
    "cleaned_be_tested"
   ]
  },
  {
   "cell_type": "code",
   "execution_count": 2,
   "metadata": {},
   "outputs": [],
   "source": [
    "symbols = list(set(be_tested.index.get_level_values(0)))\n",
    "benchmark = qb.history(Split, symbols, datetime(2010, 1, 1), datetime(2025, 2, 20), Resolution.DAILY)\n",
    "cleaned_benchmark = benchmark[benchmark[\"type\"] == 1].reset_index()[[\"symbol\", \"time\", \"splitfactor\"]]\n",
    "cleaned_benchmark.columns = [\"symbol\", \"splitdate\", \"splitfactor\"]\n",
    "cleaned_benchmark = cleaned_benchmark[cleaned_benchmark[\"splitdate\"] >= datetime(2010, 1, 1)].groupby([\"symbol\", \"splitdate\"]).last()\n",
    "cleaned_benchmark"
   ]
  },
  {
   "cell_type": "code",
   "execution_count": 3,
   "metadata": {},
   "outputs": [],
   "source": [
    "def create_confusion_maxtrix(cleaned_be_tested, cleaned_benchmark, N, date_since=None):\n",
    "    if date_since:\n",
    "        cleaned_be_tested = cleaned_be_tested[cleaned_be_tested.index.get_level_values(1) >= date_since]\n",
    "        cleaned_benchmark = cleaned_benchmark[cleaned_benchmark.index.get_level_values(1) >= date_since]\n",
    "\n",
    "    index_to_be_tested = list(cleaned_benchmark.index)\n",
    "    k = 0\n",
    "    while k < N:\n",
    "        index_to_be_tested += list(pd.MultiIndex.from_tuples([(s, i+timedelta(k)) for (s, i) in cleaned_benchmark.index])) + list(pd.MultiIndex.from_tuples([(s, i-timedelta(k)) for (s, i) in cleaned_benchmark.index]))\n",
    "        k += 1\n",
    "\n",
    "    tp = cleaned_be_tested[cleaned_be_tested.index.isin(index_to_be_tested)]\n",
    "    fn = cleaned_be_tested[~cleaned_be_tested.index.isin(index_to_be_tested)]\n",
    "\n",
    "    index_to_be_tested = list(cleaned_be_tested.index)\n",
    "    k = 0\n",
    "    while k < N:\n",
    "        index_to_be_tested += list(pd.MultiIndex.from_tuples([(s, i+timedelta(k)) for (s, i) in cleaned_be_tested.index])) + list(pd.MultiIndex.from_tuples([(s, i-timedelta(k)) for (s, i) in cleaned_benchmark.index]))\n",
    "        k += 1\n",
    "\n",
    "    fp = cleaned_benchmark[~cleaned_benchmark.index.isin(index_to_be_tested)]\n",
    "\n",
    "    # Create confusion matrix\n",
    "    # True Negatives (TN) is set to 0\n",
    "    confusion_matrix = np.array([[tp.shape[0], fn.shape[0]], [fp.shape[0], 0]])\n",
    "    return confusion_matrix"
   ]
  },
  {
   "cell_type": "code",
   "execution_count": null,
   "metadata": {},
   "outputs": [],
   "source": [
    "cm = create_confusion_maxtrix(cleaned_be_tested, cleaned_benchmark, 1)\n",
    "print(f\"Accuracy: {cm[0][0]/np.sum(cm)}, Missed Rate: {cm[0][1]/np.sum(cm)}\")"
   ]
  },
  {
   "cell_type": "code",
   "execution_count": 6,
   "metadata": {},
   "outputs": [],
   "source": [
    "cm = create_confusion_maxtrix(cleaned_be_tested, cleaned_benchmark, 3)\n",
    "print(f\"±3 days Accuracy: {cm[0][0]/np.sum(cm)}, Missed Rate: {cm[0][1]/np.sum(cm)}\")"
   ]
  },
  {
   "cell_type": "code",
   "execution_count": 7,
   "metadata": {},
   "outputs": [],
   "source": [
    "cm = create_confusion_maxtrix(cleaned_be_tested, cleaned_benchmark, 7)\n",
    "print(f\"±7 days Accuracy: {cm[0][0]/np.sum(cm)}, Missed Rate: {cm[0][1]/np.sum(cm)}\")"
   ]
  },
  {
   "cell_type": "code",
   "execution_count": null,
   "metadata": {},
   "outputs": [],
   "source": [
    "cm = create_confusion_maxtrix(cleaned_be_tested, cleaned_benchmark, 1, datetime(2015, 1, 1))\n",
    "print(f\"Accuracy since 2015: {cm[0][0]/np.sum(cm)}, Missed Rate: {cm[0][1]/np.sum(cm)}\")"
   ]
  },
  {
   "cell_type": "code",
   "execution_count": 10,
   "metadata": {},
   "outputs": [],
   "source": [
    "cm = create_confusion_maxtrix(cleaned_be_tested, cleaned_benchmark, 3, datetime(2015, 1, 1))\n",
    "print(f\"±3 days Accuracy since 2015: {cm[0][0]/np.sum(cm)}, Missed Rate: {cm[0][1]/np.sum(cm)}\")"
   ]
  },
  {
   "cell_type": "code",
   "execution_count": 11,
   "metadata": {},
   "outputs": [],
   "source": [
    "cm = create_confusion_maxtrix(cleaned_be_tested, cleaned_benchmark, 7, datetime(2015, 1, 1))\n",
    "print(f\"±7 days Accuracy since 2015: {cm[0][0]/np.sum(cm)}, Missed Rate: {cm[0][1]/np.sum(cm)}\")"
   ]
  }
 ],
 "metadata": {
  "kernelspec": {
   "display_name": "Foundation-Py-Default",
   "language": "python",
   "name": "python3"
  },
  "language_info": {
   "codemirror_mode": {
    "name": "ipython",
    "version": 3
   },
   "file_extension": ".py",
   "mimetype": "text/x-python",
   "name": "python",
   "nbconvert_exporter": "python",
   "pygments_lexer": "ipython3",
   "version": "3.11.11"
  }
 },
 "nbformat": 4,
 "nbformat_minor": 2
}
